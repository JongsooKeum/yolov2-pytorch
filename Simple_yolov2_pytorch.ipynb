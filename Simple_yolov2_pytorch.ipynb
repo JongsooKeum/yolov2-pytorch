{
 "cells": [
  {
   "cell_type": "markdown",
   "metadata": {
    "colab_type": "text",
    "id": "tDKglD0vavVy"
   },
   "source": [
    "##FDDB Dataset 다운로드"
   ]
  },
  {
   "cell_type": "code",
   "execution_count": 0,
   "metadata": {
    "colab": {},
    "colab_type": "code",
    "id": "eb-68VCNaw_D"
   },
   "outputs": [],
   "source": [
    "!mkdir data"
   ]
  },
  {
   "cell_type": "code",
   "execution_count": 7,
   "metadata": {
    "colab": {
     "base_uri": "https://localhost:8080/",
     "height": 394
    },
    "colab_type": "code",
    "id": "XR5vGjhqa5pZ",
    "outputId": "227f7ea1-8b03-4363-ae52-9c334814e0f1"
   },
   "outputs": [
    {
     "name": "stdout",
     "output_type": "stream",
     "text": [
      "--2019-04-10 06:26:58--  https://drive.google.com/uc?authuser=0&id=1qV4YSzvvTQ7rSi3iS2swkbA56QO-bbs8&export=download\n",
      "Resolving drive.google.com (drive.google.com)... 74.125.129.101, 74.125.129.138, 74.125.129.139, ...\n",
      "Connecting to drive.google.com (drive.google.com)|74.125.129.101|:443... connected.\n",
      "HTTP request sent, awaiting response... 302 Moved Temporarily\n",
      "Location: https://drive.google.com/uc?id=1qV4YSzvvTQ7rSi3iS2swkbA56QO-bbs8&export=download [following]\n",
      "--2019-04-10 06:26:58--  https://drive.google.com/uc?id=1qV4YSzvvTQ7rSi3iS2swkbA56QO-bbs8&export=download\n",
      "Reusing existing connection to drive.google.com:443.\n",
      "HTTP request sent, awaiting response... 302 Moved Temporarily\n",
      "Location: https://doc-0o-bo-docs.googleusercontent.com/docs/securesc/ha0ro937gcuc7l7deffksulhg5h7mbp1/7g60ravddpj5jh4i6pesaeqo05vfsek6/1554876000000/15098959873704847008/*/1qV4YSzvvTQ7rSi3iS2swkbA56QO-bbs8?e=download [following]\n",
      "Warning: wildcards not supported in HTTP.\n",
      "--2019-04-10 06:27:10--  https://doc-0o-bo-docs.googleusercontent.com/docs/securesc/ha0ro937gcuc7l7deffksulhg5h7mbp1/7g60ravddpj5jh4i6pesaeqo05vfsek6/1554876000000/15098959873704847008/*/1qV4YSzvvTQ7rSi3iS2swkbA56QO-bbs8?e=download\n",
      "Resolving doc-0o-bo-docs.googleusercontent.com (doc-0o-bo-docs.googleusercontent.com)... 74.125.129.132, 2607:f8b0:4001:c15::84\n",
      "Connecting to doc-0o-bo-docs.googleusercontent.com (doc-0o-bo-docs.googleusercontent.com)|74.125.129.132|:443... connected.\n",
      "HTTP request sent, awaiting response... 200 OK\n",
      "Length: unspecified [application/x-zip-compressed]\n",
      "Saving to: ‘fddb.zip’\n",
      "\n",
      "fddb.zip                [  <=>               ]  55.83M   142MB/s    in 0.4s    \n",
      "\n",
      "2019-04-10 06:27:11 (142 MB/s) - ‘fddb.zip’ saved [58540856]\n",
      "\n"
     ]
    }
   ],
   "source": [
    "!wget \"https://drive.google.com/uc?authuser=0&id=1qV4YSzvvTQ7rSi3iS2swkbA56QO-bbs8&export=download\" -O fddb.zip"
   ]
  },
  {
   "cell_type": "code",
   "execution_count": 8,
   "metadata": {
    "colab": {
     "base_uri": "https://localhost:8080/",
     "height": 34
    },
    "colab_type": "code",
    "id": "kmGHJatwa73w",
    "outputId": "fe63bf64-171c-41bc-a876-e9564230653b"
   },
   "outputs": [
    {
     "name": "stdout",
     "output_type": "stream",
     "text": [
      "data  fddb.zip\tsample_data\n"
     ]
    }
   ],
   "source": [
    "!ls"
   ]
  },
  {
   "cell_type": "code",
   "execution_count": 9,
   "metadata": {
    "colab": {
     "base_uri": "https://localhost:8080/",
     "height": 153
    },
    "colab_type": "code",
    "id": "WPNlP1F_bBL7",
    "outputId": "7602feb9-56be-45e4-c008-b9ded5c32af7"
   },
   "outputs": [
    {
     "name": "stdout",
     "output_type": "stream",
     "text": [
      "Reading package lists... Done\n",
      "Building dependency tree       \n",
      "Reading state information... Done\n",
      "unzip is already the newest version (6.0-21ubuntu1).\n",
      "The following package was automatically installed and is no longer required:\n",
      "  libnvidia-common-410\n",
      "Use 'apt autoremove' to remove it.\n",
      "0 upgraded, 0 newly installed, 0 to remove and 6 not upgraded.\n"
     ]
    }
   ],
   "source": [
    "!apt-get install unzip"
   ]
  },
  {
   "cell_type": "code",
   "execution_count": 0,
   "metadata": {
    "colab": {},
    "colab_type": "code",
    "id": "yl7MNRyfbDAg"
   },
   "outputs": [],
   "source": [
    "!unzip -q fddb.zip"
   ]
  },
  {
   "cell_type": "code",
   "execution_count": 0,
   "metadata": {
    "colab": {},
    "colab_type": "code",
    "id": "bxM5wrfbbGjv"
   },
   "outputs": [],
   "source": [
    "!mv face data/FDDB"
   ]
  },
  {
   "cell_type": "code",
   "execution_count": 12,
   "metadata": {
    "colab": {
     "base_uri": "https://localhost:8080/",
     "height": 34
    },
    "colab_type": "code",
    "id": "HePqQv2KbK20",
    "outputId": "c474aca8-1505-4d02-97d5-741a21fd502e"
   },
   "outputs": [
    {
     "name": "stdout",
     "output_type": "stream",
     "text": [
      "test  train\n"
     ]
    }
   ],
   "source": [
    "!ls data/FDDB"
   ]
  },
  {
   "cell_type": "code",
   "execution_count": 13,
   "metadata": {
    "colab": {
     "base_uri": "https://localhost:8080/",
     "height": 34
    },
    "colab_type": "code",
    "id": "lwn84gn5bNMx",
    "outputId": "1734627c-e31f-4edf-d99d-00abc0c2ff46"
   },
   "outputs": [
    {
     "name": "stdout",
     "output_type": "stream",
     "text": [
      "anchors.json  annotations  classes.json  images\n"
     ]
    }
   ],
   "source": [
    "!ls data/FDDB/train"
   ]
  },
  {
   "cell_type": "markdown",
   "metadata": {
    "colab_type": "text",
    "id": "pmw9D7tmbiWH"
   },
   "source": [
    "## Data Loader for Detection Model\n"
   ]
  },
  {
   "cell_type": "code",
   "execution_count": 0,
   "metadata": {
    "colab": {},
    "colab_type": "code",
    "id": "tACjbGKSblwA"
   },
   "outputs": [],
   "source": [
    "import os\n",
    "import numpy as np\n",
    "import cv2\n",
    "from cv2 import imread, resize, imwrite\n",
    "import matplotlib.pyplot as plt\n",
    "from matplotlib.pyplot import imshow\n",
    "import glob\n",
    "import json"
   ]
  },
  {
   "cell_type": "code",
   "execution_count": 0,
   "metadata": {
    "colab": {},
    "colab_type": "code",
    "id": "_lmch7ymemaR"
   },
   "outputs": [],
   "source": [
    "IM_EXTENSIONS = ['png', 'jpg', 'bmp']\n",
    "\n",
    "def load_json(json_path):\n",
    "    \"\"\"\n",
    "    Load json file\n",
    "    \"\"\"\n",
    "    with open(json_path, 'r') as f:\n",
    "        data = json.load(f)\n",
    "    return data\n",
    "\n",
    "def get_best_anchor(anchors, box_wh):\n",
    "    \"\"\"\n",
    "    Select the best anchor with highest IOU\n",
    "    \"\"\"\n",
    "    box_wh = np.array(box_wh)\n",
    "    best_iou = 0\n",
    "    best_anchor = 0\n",
    "    for k, anchor in enumerate(anchors):\n",
    "        intersect_wh = np.maximum(np.minimum(box_wh, anchor), 0.0)\n",
    "        intersect_area = intersect_wh[0] * intersect_wh[1]\n",
    "        box_area = box_wh[0] * box_wh[1]\n",
    "        anchor_area = anchor[0] * anchor[1]\n",
    "        iou = intersect_area / (box_area + anchor_area - intersect_area)\n",
    "        if iou > best_iou:\n",
    "            best_iou = iou\n",
    "            best_anchor = k\n",
    "    return best_anchor"
   ]
  },
  {
   "cell_type": "code",
   "execution_count": 0,
   "metadata": {
    "colab": {},
    "colab_type": "code",
    "id": "wLokh3fsep9y"
   },
   "outputs": [],
   "source": [
    "def read_data(data_dir, image_size, pixels_per_grid=32, no_label=False, ratio=1, order='HWC'):\n",
    "    \"\"\"\n",
    "    Load the data and preprocessing for YOLO detector\n",
    "    :param data_dir: str, path to the directory to read. \n",
    "                     It should include class_map, anchors, annotations\n",
    "    :image_size: tuple, image size for resizing images\n",
    "    :pixels_per_gird: int, the actual size of a grid\n",
    "    :no_label: bool, whetehr to load labels\n",
    "    :return: X_set: np.ndarray, shape: (N, H, W, C).\n",
    "             y_set: np.ndarray, shape: (N, g_H, g_W, anchors, 5 + num_classes).\n",
    "    \"\"\"\n",
    "    im_dir = os.path.join(data_dir, 'images')\n",
    "    class_map_path = os.path.join(data_dir, 'classes.json')\n",
    "    anchors_path = os.path.join(data_dir, 'anchors.json')\n",
    "    class_map = load_json(class_map_path)\n",
    "    anchors = load_json(anchors_path)\n",
    "    num_classes = len(class_map)\n",
    "    grid_h, grid_w = [image_size[i] // pixels_per_grid for i in range(2)]\n",
    "    im_paths = []\n",
    "    for ext in IM_EXTENSIONS:\n",
    "        im_paths.extend(glob.glob(os.path.join(im_dir, '*.{}'.format(ext))))\n",
    "    if ratio != 1:\n",
    "      num_img = int(len(im_paths)*ratio)\n",
    "      im_paths = im_paths[:num_img]\n",
    "    anno_dir = os.path.join(data_dir, 'annotations')\n",
    "    images = []\n",
    "    labels = []\n",
    "\n",
    "    for im_path in im_paths:\n",
    "        # load image and resize image\n",
    "        im = imread(im_path)\n",
    "        im = np.array(im, dtype=np.float32)\n",
    "        im_origina_sizes = im.shape[:2]\n",
    "        im = resize(im, (image_size[1], image_size[0]))\n",
    "        if len(im.shape) == 2:\n",
    "            im = np.expand_dims(im, 2)\n",
    "            im = np.concatenate([im, im, im], -1)\n",
    "        images.append(im)\n",
    "\n",
    "        if no_label:\n",
    "            labels.append(0)\n",
    "            continue\n",
    "        # load bboxes and reshape for yolo model\n",
    "        name = os.path.splitext(os.path.basename(im_path))[0]\n",
    "        anno_path = os.path.join(anno_dir, '{}.anno'.format(name))\n",
    "        anno = load_json(anno_path)\n",
    "        label = np.zeros((grid_h, grid_w, len(anchors), 5 + num_classes))\n",
    "        for c_idx, c_name in class_map.items():\n",
    "            if c_name not in anno:\n",
    "                continue\n",
    "            for x_min, y_min, x_max, y_max in anno[c_name]:\n",
    "                oh, ow = im_origina_sizes\n",
    "                # normalize object coordinates and clip the values\n",
    "                x_min, y_min, x_max, y_max = x_min / ow, y_min / oh, x_max / ow, y_max / oh\n",
    "                x_min, y_min, x_max, y_max = np.clip([x_min, y_min, x_max, y_max], 0, 1)\n",
    "                # assign the values to the best anchor\n",
    "                anchor_boxes = np.array(anchors) / np.array([ow, oh])\n",
    "                best_anchor = get_best_anchor(\n",
    "                    anchor_boxes, [x_max - x_min, y_max - y_min])\n",
    "                cx = int(np.floor(0.5 * (x_min + x_max) * grid_w))\n",
    "                cy = int(np.floor(0.5 * (y_min + y_max) * grid_h))\n",
    "                label[cy, cx, best_anchor, 0:4] = [x_min, y_min, x_max, y_max]\n",
    "                label[cy, cx, best_anchor, 4] = 1.0\n",
    "                label[cy, cx, best_anchor, 5 + int(c_idx)] = 1.0\n",
    "        labels.append(label)\n",
    "\n",
    "    X_set = np.array(images, dtype=np.float32)\n",
    "    y_set = np.array(labels, dtype=np.float32)\n",
    "    if order == 'CHW':\n",
    "      X_set = np.transpose(X_set, [0, 3, 1, 2])\n",
    "\n",
    "    return X_set, y_set"
   ]
  },
  {
   "cell_type": "code",
   "execution_count": 0,
   "metadata": {
    "colab": {},
    "colab_type": "code",
    "id": "Alu1BNNFeuJ_"
   },
   "outputs": [],
   "source": [
    "class DataSet(object):\n",
    "\n",
    "    def __init__(self, images, labels=None):\n",
    "        \"\"\"\n",
    "        Construct a new DataSet object.\n",
    "        :param images: np.ndarray, shape: (N, H, W, C)\n",
    "        :param labels: np.ndarray, shape: (N, g_H, g_W, anchors, 5 + num_classes).\n",
    "        \"\"\"\n",
    "        if labels is not None:\n",
    "            assert images.shape[0] == labels.shape[0],\\\n",
    "                ('Number of examples mismatch, between images and labels')\n",
    "        self._num_examples = images.shape[0]\n",
    "        self._images = images\n",
    "        self._labels = labels  # NOTE: this can be None, if not given.\n",
    "        # image/label indices(can be permuted)\n",
    "        self._indices = np.arange(self._num_examples, dtype=np.uint)\n",
    "        self._reset()\n",
    "\n",
    "    def _reset(self):\n",
    "        \"\"\"Reset some variables.\"\"\"\n",
    "        self._epochs_completed = 0\n",
    "        self._index_in_epoch = 0\n",
    "\n",
    "    @property\n",
    "    def images(self):\n",
    "        return self._images\n",
    "\n",
    "    @property\n",
    "    def labels(self):\n",
    "        return self._labels\n",
    "\n",
    "    @property\n",
    "    def num_examples(self):\n",
    "        return self._num_examples\n",
    "\n",
    "    def sample_batch(self, batch_size, shuffle=True):\n",
    "        \"\"\"\n",
    "        Return sample examples from this dataset.\n",
    "        :param batch_size: int, size of a sample batch.\n",
    "        :param shuffle: bool, whether to shuffle the whole set while sampling a batch.\n",
    "        :return: batch_images: np.ndarray, shape: (N, H, W, C)\n",
    "                 batch_labels: np.ndarray, shape: (N, g_H, g_W, anchors, 5 + num_classes)\n",
    "        \"\"\"\n",
    "\n",
    "        if shuffle:\n",
    "            indices = np.random.choice(self._num_examples, batch_size)\n",
    "        else:\n",
    "            indices = np.arange(batch_size)\n",
    "        batch_images = self._images[indices]\n",
    "        if self._labels is not None:\n",
    "            batch_labels = self._labels[indices]\n",
    "        else:\n",
    "            batch_labels = None\n",
    "        return batch_images, batch_labels\n",
    "\n",
    "    def next_batch(self, batch_size, shuffle=True):\n",
    "        \"\"\"\n",
    "        Return the next 'batch_size' examples from this dataset.\n",
    "        :param batch_size: int, size of a single batch.\n",
    "        :param shuffle: bool, whether to shuffle the whole set while sampling a batch.\n",
    "        :return: batch_images: np.ndarray, shape: (N, H, W, C)\n",
    "                 batch_labels: np.ndarray, shape: (N, g_H, g_W, anchors, 5 + num_classes)\n",
    "        \"\"\"\n",
    "\n",
    "        start_index = self._index_in_epoch\n",
    "\n",
    "        # Shuffle the dataset, for the first epoch\n",
    "        if self._epochs_completed == 0 and start_index == 0 and shuffle:\n",
    "            np.random.shuffle(self._indices)\n",
    "\n",
    "        # Go to the next epoch, if current index goes beyond the total number\n",
    "        # of examples\n",
    "        if start_index + batch_size > self._num_examples:\n",
    "            # Increment the number of epochs completed\n",
    "            self._epochs_completed += 1\n",
    "            # Get the rest examples in this epoch\n",
    "            rest_num_examples = self._num_examples - start_index\n",
    "            indices_rest_part = self._indices[start_index:self._num_examples]\n",
    "\n",
    "            # Shuffle the dataset, after finishing a single epoch\n",
    "            if shuffle:\n",
    "                np.random.shuffle(self._indices)\n",
    "\n",
    "            # Start the next epoch\n",
    "            start_index = 0\n",
    "            self._index_in_epoch = batch_size - rest_num_examples\n",
    "            end_index = self._index_in_epoch\n",
    "            indices_new_part = self._indices[start_index:end_index]\n",
    "\n",
    "            images_rest_part = self._images[indices_rest_part]\n",
    "            images_new_part = self._images[indices_new_part]\n",
    "            batch_images = np.concatenate(\n",
    "                (images_rest_part, images_new_part), axis=0)\n",
    "            if self._labels is not None:\n",
    "                labels_rest_part = self._labels[indices_rest_part]\n",
    "                labels_new_part = self._labels[indices_new_part]\n",
    "                batch_labels = np.concatenate(\n",
    "                    (labels_rest_part, labels_new_part), axis=0)\n",
    "            else:\n",
    "                batch_labels = None\n",
    "        else:\n",
    "            self._index_in_epoch += batch_size\n",
    "            end_index = self._index_in_epoch\n",
    "            indices = self._indices[start_index:end_index]\n",
    "            batch_images = self._images[indices]\n",
    "            if self._labels is not None:\n",
    "                batch_labels = self._labels[indices]\n",
    "            else:\n",
    "                batch_labels = None\n",
    "\n",
    "        return batch_images, batch_labels"
   ]
  },
  {
   "cell_type": "code",
   "execution_count": 0,
   "metadata": {
    "colab": {},
    "colab_type": "code",
    "id": "8WiNVeOmex5d"
   },
   "outputs": [],
   "source": [
    "# set paths\n",
    "root_dir = os.path.join('data/FDDB/') #FIXME\n",
    "trainval_dir = os.path.join(root_dir, 'train')\n",
    "test_dir = os.path.join(root_dir, 'test')\n",
    "anchors = load_json(os.path.join(trainval_dir, 'anchors.json'))\n",
    "class_map = load_json(os.path.join(trainval_dir, 'classes.json'))\n",
    "\n",
    "# set hyperparameters for data\n",
    "IM_SIZE = (416, 416)\n",
    "NUM_CLASSES = 1\n",
    "VALID_RATIO = 0.1"
   ]
  },
  {
   "cell_type": "code",
   "execution_count": 0,
   "metadata": {
    "colab": {},
    "colab_type": "code",
    "id": "bUa3kuYRe4Ye"
   },
   "outputs": [],
   "source": [
    "X_trainval, y_trainval = read_data(trainval_dir, IM_SIZE, ratio=0.5, order='CHW')\n",
    "trainval_size = X_trainval.shape[0]\n",
    "val_size = int(trainval_size * VALID_RATIO)\n",
    "val_set = DataSet(X_trainval[:val_size], y_trainval[:val_size])\n",
    "train_set = DataSet(X_trainval[val_size:], y_trainval[val_size:])"
   ]
  },
  {
   "cell_type": "code",
   "execution_count": 0,
   "metadata": {
    "colab": {},
    "colab_type": "code",
    "id": "CzW2SxR5fKvN"
   },
   "outputs": [],
   "source": [
    "\n",
    "X_test, y_test = read_data(test_dir, IM_SIZE, order='CHW')\n",
    "test_set = DataSet(X_test, y_test)"
   ]
  },
  {
   "cell_type": "markdown",
   "metadata": {
    "colab_type": "text",
    "id": "jsemxGLz0Hm5"
   },
   "source": [
    "## Construct Network & Build Loss"
   ]
  },
  {
   "cell_type": "code",
   "execution_count": 0,
   "metadata": {
    "colab": {},
    "colab_type": "code",
    "id": "iPquZ1lu0J32"
   },
   "outputs": [],
   "source": [
    "import torch\n",
    "from torch import nn\n",
    "from torch.nn import functional as F\n",
    "from torch.autograd import Variable"
   ]
  },
  {
   "cell_type": "code",
   "execution_count": 9,
   "metadata": {
    "colab": {
     "base_uri": "https://localhost:8080/",
     "height": 34
    },
    "colab_type": "code",
    "id": "x2swBuDFC5yY",
    "outputId": "99e8067e-9a78-4fc8-deea-ea1a65dc97e7"
   },
   "outputs": [
    {
     "name": "stdout",
     "output_type": "stream",
     "text": [
      "Device name: 0\n"
     ]
    }
   ],
   "source": [
    "device_name = torch.cuda.current_device()\n",
    "print('Device name: {}'.format(device_name))\n",
    "\n",
    "assert device_name == 0"
   ]
  },
  {
   "cell_type": "code",
   "execution_count": 0,
   "metadata": {
    "colab": {},
    "colab_type": "code",
    "id": "aVibEagA0gPi"
   },
   "outputs": [],
   "source": [
    "def conv2d(in_channels, out_channels, kernel_size=3, stride=1, padding=1, bias=False):\n",
    "    return nn.Conv2d(in_channels, out_channels, kernel_size=kernel_size, stride=stride,\n",
    "                     padding=padding, bias=bias)\n",
    "\n",
    "def max_pool(kernel_size, stride, padding=0):\n",
    "    return nn.MaxPool2d(kernel_size, stride=stride, padding=padding)\n",
    "  \n",
    "class ConvBnAct(nn.Module):\n",
    "    def __init__(self, in_channels, out_channels, kernel_size, stride=1, padding=0, act=nn.LeakyReLU()):\n",
    "        super().__init__()\n",
    "\n",
    "        self.conv = conv2d(in_channels, out_channels, kernel_size, stride=stride,\n",
    "                           padding=padding, bias=False)\n",
    "        self.bn = nn.BatchNorm2d(out_channels)\n",
    "        self.act = act\n",
    "\n",
    "    def forward(self, x):\n",
    "        if self.act is None:\n",
    "            return self.bn(self.conv(x))\n",
    "        else:\n",
    "            return self.act(self.bn(self.conv(x)))\n",
    "          \n",
    "class SpaceToDepth(nn.Module):\n",
    "    def __init__(self, block_size):\n",
    "        super(SpaceToDepth, self).__init__()\n",
    "        \n",
    "        self.block_size = block_size\n",
    "        self.block_size_sq = block_size*block_size\n",
    "\n",
    "    def forward(self, input):\n",
    "        output = input.permute(0, 2, 3, 1)\n",
    "        (batch_size, s_height, s_width, s_depth) = output.size()\n",
    "        d_depth = s_depth * self.block_size_sq\n",
    "        d_width = int(s_width / self.block_size)\n",
    "        d_height = int(s_height / self.block_size)\n",
    "        t_1 = output.split(self.block_size, 2)\n",
    "        stack = [t_t.reshape(batch_size, d_height, d_depth) for t_t in t_1]\n",
    "        output = torch.stack(stack, 1)\n",
    "        output = output.permute(0, 2, 1, 3)\n",
    "        output = output.permute(0, 3, 1, 2)\n",
    "        return output"
   ]
  },
  {
   "cell_type": "code",
   "execution_count": 0,
   "metadata": {
    "colab": {},
    "colab_type": "code",
    "id": "7N3317TG0jW1"
   },
   "outputs": [],
   "source": [
    "input_shape = [3] + list(IM_SIZE)\n",
    "grid_size = [x // 32 for x in input_shape[1:]]\n",
    "num_classes = NUM_CLASSES\n",
    "num_anchors = len(anchors)"
   ]
  },
  {
   "cell_type": "code",
   "execution_count": 0,
   "metadata": {
    "colab": {},
    "colab_type": "code",
    "id": "rGr1lEok0luD"
   },
   "outputs": [],
   "source": [
    "class Yolov2(DetectNet):\n",
    "\n",
    "    def __init__(self, input_shape, num_classes, anchors, **kwargs):\n",
    "\n",
    "        super(Yolov2, self).__init__()\n",
    "        self.num_classes = num_classes\n",
    "        self.num_anchors = len(anchors)\n",
    "        self.d = self._prepare_module()\n",
    "        self.is_cuda = torch.cuda.is_available()\n",
    "\n",
    "        grid_size = [x // 32 for x in input_shape[1:]]\n",
    "        grid_h, grid_w = grid_size\n",
    "        grid_wh = torch.tensor([grid_w, grid_h]).view(1, 1, 2, 1, 1).float()\n",
    "        cxcy = np.transpose([np.tile(np.arange(grid_w), grid_h),\n",
    "                             np.repeat(np.arange(grid_h), grid_h)])\n",
    "        cxcy = np.transpose(cxcy, [1, 0])\n",
    "        cxcy = np.reshape(cxcy, (1, 1, 2, grid_h, grid_w))\n",
    "        cxcy = torch.tensor(cxcy).float()\n",
    "\n",
    "        anchors = torch.tensor(anchors).float()\n",
    "        pwph = anchors.view(1, len(anchors), 2, 1, 1) / 32\n",
    "\n",
    "        self.cxcy = Variable(cxcy, requires_grad=False)\n",
    "        self.pwph = Variable(pwph, requires_grad=False)\n",
    "        self.grid_wh = Variable(grid_wh, requires_grad=False)\n",
    "        if self.is_cuda:\n",
    "            self.cuda()\n",
    "            self.cxcy = self.cxcy.cuda()\n",
    "            self.pwph = self.pwph.cuda()\n",
    "            self.grid_wh = self.grid_wh.cuda()\n",
    "\n",
    "    def _prepare_module(self):\n",
    "\n",
    "        d = dict()\n",
    "\n",
    "        #conv1 - batch_norm1 - leaky_relu1 - pool1\n",
    "        d['conv1'] = ConvBnAct(3, 32, 3, stride=1, padding=1)\n",
    "        d['pool1'] = max_pool(2, 2)\n",
    "\n",
    "        #conv2 - batch_norm2 - leaky_relu2 - pool2\n",
    "        d['conv2'] = ConvBnAct(32, 64, 3, stride=1, padding=1)\n",
    "        d['pool2'] = max_pool(2, 2)\n",
    "\n",
    "        #conv3 - batch_norm3 - leaky_relu3\n",
    "        d['conv3'] = ConvBnAct(64, 128, 3, stride=1, padding=1)\n",
    "\n",
    "        #conv4 - batch_norm4 - leaky_relu4\n",
    "        d['conv4'] = ConvBnAct(128, 64, 1, stride=1, padding=0)\n",
    "\n",
    "        #conv5 - batch_norm5 - leaky_relu5 - pool5\n",
    "        d['conv5'] = ConvBnAct(64, 128, 3, stride=1, padding=1)\n",
    "        d['pool5'] = max_pool(2, 2)\n",
    "\n",
    "        #conv6 - batch_norm6 - leaky_relu6\n",
    "        d['conv6'] = ConvBnAct(128, 256, 3, stride=1, padding=1)\n",
    "\n",
    "        #conv7 - batch_norm7 - leaky_relu7\n",
    "        d['conv7'] = ConvBnAct(256, 128, 1, stride=1, padding=0)\n",
    "\n",
    "        #conv8 - batch_norm8 - leaky_relu8 - pool8\n",
    "        d['conv8'] = ConvBnAct(128, 256, 3, stride=1, padding=1)\n",
    "        d['pool8'] = max_pool(2, 2)\n",
    "\n",
    "        #conv9 - batch_norm9 - leaky_relu9\n",
    "        d['conv9'] = ConvBnAct(256, 512, 3, stride=1, padding=1)\n",
    "\n",
    "        #conv10 - batch_norm10 - leaky_relu10\n",
    "        d['conv10'] = ConvBnAct(512, 256, 1, stride=1, padding=0)\n",
    "\n",
    "        #conv11 - batch_norm11 - leaky_relu11\n",
    "        d['conv11'] = ConvBnAct(256, 512, 3, stride=1, padding=1)\n",
    "\n",
    "        #conv12 - batch_norm12 - leaky_relu12\n",
    "        d['conv12'] = ConvBnAct(512, 256, 1, stride=1, padding=0)\n",
    "\n",
    "        #conv13 - batch_norm13 - leaky_relu13 - pool13\n",
    "        d['conv13'] = ConvBnAct(256, 512, 3, stride=1, padding=1)\n",
    "        d['pool13'] = max_pool(2, 2)\n",
    "\n",
    "        #conv14 - batch_norm14 - leaky_relu14\n",
    "        d['conv14'] = ConvBnAct(512, 1024, 3, stride=1, padding=1)\n",
    "\n",
    "        #conv15 - batch_norm15 - leaky_relu15\n",
    "        d['conv15'] = ConvBnAct(1024, 512, 1, stride=1, padding=0)\n",
    "\n",
    "        #conv16 - batch_norm16 - leaky_relu16\n",
    "        d['conv16'] = ConvBnAct(512, 1024, 3, stride=1, padding=1)\n",
    "\n",
    "        #conv17 - batch_norm16 - leaky_relu17\n",
    "        d['conv17'] = ConvBnAct(1024, 512, 1, stride=1, padding=0)\n",
    "\n",
    "        #conv18 - batch_norm18 - leaky_relu18\n",
    "        d['conv18'] = ConvBnAct(512, 1024, 3, stride=1, padding=1)\n",
    "\n",
    "        #conv19 - batch_norm19 - leaky_relu19\n",
    "        d['conv19'] = ConvBnAct(1024, 1024, 3, stride=1, padding=1)\n",
    "\n",
    "        # Detection Layer\n",
    "        #conv20 - batch_norm20 - leaky_relu20\n",
    "        d['conv20'] = ConvBnAct(1024, 1024, 3, stride=1, padding=1)\n",
    "\n",
    "        # concatenate layer20 and layer 13 using space to depth\n",
    "        d['skip_connection'] = nn.Sequential(\n",
    "            ConvBnAct(512, 64, 1, stride=1, padding=0), SpaceToDepth(2))\n",
    "        d['conv21'] = ConvBnAct(1024, 1024, 3, stride=1, padding=1)\n",
    "\n",
    "        #conv22 - batch_norm22 - leaky_relu22\n",
    "        d['conv22'] = ConvBnAct(1280, 1024, 3, stride=1, padding=1)\n",
    "\n",
    "        output_channel = self.num_anchors * (5 + self.num_classes)\n",
    "        d['logits'] = conv2d(1024, output_channel, 1,\n",
    "                             stride=1, padding=0, bias=True)\n",
    "\n",
    "        self.module = nn.ModuleList()\n",
    "        for i in d.values():\n",
    "            self.module.append(i)\n",
    "        return d\n",
    "\n",
    "    def forward(self, x):\n",
    "\n",
    "        d = self.d\n",
    "        out = x\n",
    "        for name in d:\n",
    "            if name == 'conv13':\n",
    "                out = d[name](out)\n",
    "                skip = out\n",
    "            elif name == 'skip_connection':\n",
    "                skip = d[name](skip)\n",
    "            elif name == 'conv21':\n",
    "                out = torch.cat((d[name](out), skip), dim=1)\n",
    "            else:\n",
    "                out = d[name](out)\n",
    "        out = out.view(-1, self.num_anchors, (5 + self.num_classes),\n",
    "                       out.size()[-2], out.size()[-1])\n",
    "\n",
    "        return out\n",
    "\n",
    "    def _decode_output(self, x):\n",
    "        num_classes = self.num_classes\n",
    "        cxcy = self.cxcy\n",
    "        pwph = self.pwph\n",
    "        pred = self.forward(x)\n",
    "\n",
    "        txty, twth = pred[:, :,  0:2, :, :], pred[:, :, 2:4, :, :]\n",
    "        confidence = torch.sigmoid(pred[:, :, 4:5, :, :])\n",
    "        class_probs = F.softmax(pred[:, :, 5:, :, :], dim=2)\\\n",
    "            if num_classes > 1 else torch.sigmoid(pred[:, :, 5:, :, :])\n",
    "        bxby = torch.sigmoid(txty) + cxcy\n",
    "        bwbh = torch.exp(twth) * pwph\n",
    "\n",
    "        return bxby, bwbh, confidence, class_probs\n",
    "\n",
    "    def output(self, x):\n",
    "        grid_wh = self.grid_wh\n",
    "        bxby, bwbh, confidence, class_probs = self._decode_output(x)\n",
    "        # calculating for prediction\n",
    "        nxny, nwnh = bxby / grid_wh, bwbh / grid_wh\n",
    "        nx1ny1, nx2ny2 = nxny - 0.5 * nwnh, nxny + 0.5 * nwnh\n",
    "        pred_y = torch.cat((nx1ny1, nx2ny2, confidence, class_probs), dim=2)\n",
    "        pred_y = pred_y.permute(0, 3, 4, 1, 2)\n",
    "        return pred_y\n",
    "\n",
    "    def yoloLoss(self, x, y):\n",
    "        loss_weights = [5, 5, 5, 0.5, 1.0]  # FIXME\n",
    "        grid_wh = self.grid_wh\n",
    "        y = y.permute(0, 3, 4, 1, 2)\n",
    "\n",
    "        bxby, bwbh, confidence, class_probs = self._decode_output(x)\n",
    "\n",
    "        gt_bxby = 0.5 * (y[:, :, 0:2, :, :] + y[:, :, 2:4, :, :]) * grid_wh\n",
    "        gt_bwbh = (y[:, :, 2:4, :, :] - y[:, :, 0:2, :, :]) * grid_wh\n",
    "\n",
    "        resp_mask = y[:, :, 4:5, :, :]\n",
    "        no_resp_mask = 1.0 - resp_mask\n",
    "        gt_confidence = resp_mask\n",
    "        gt_class_probs = y[:, :, 5:, :, :]\n",
    "        loss_bxby = loss_weights[0] * resp_mask * \\\n",
    "            torch.pow((gt_bxby - bxby), 2)\n",
    "        loss_bwbh = loss_weights[1] * resp_mask * \\\n",
    "            torch.pow((gt_bwbh.sqrt() - bwbh.sqrt()), 2)\n",
    "        loss_resp_conf = loss_weights[2] * resp_mask * \\\n",
    "            torch.pow((gt_confidence - confidence), 2)\n",
    "        loss_no_resp_conf = loss_weights[\n",
    "            3] * no_resp_mask * torch.pow((gt_confidence - confidence), 2)\n",
    "        loss_class_probs = loss_weights[\n",
    "            4] * resp_mask * torch.pow((gt_class_probs - class_probs), 2)\n",
    "\n",
    "        merged_loss = torch.cat((\n",
    "                                loss_bxby,\n",
    "                                loss_bwbh,\n",
    "                                loss_resp_conf,\n",
    "                                loss_no_resp_conf,\n",
    "                                loss_class_probs\n",
    "                                ),\n",
    "                                dim=2)\n",
    "        total_loss = torch.sum(merged_loss, dim=2)\n",
    "        total_loss = torch.mean(merged_loss)\n",
    "        return total_loss"
   ]
  },
  {
   "cell_type": "markdown",
   "metadata": {
    "colab_type": "text",
    "id": "lrOpcXiU8DRP"
   },
   "source": []
  },
  {
   "cell_type": "markdown",
   "metadata": {
    "colab_type": "text",
    "id": "KZvK0r0704Ky"
   },
   "source": [
    "## Training Session"
   ]
  },
  {
   "cell_type": "code",
   "execution_count": 0,
   "metadata": {
    "colab": {},
    "colab_type": "code",
    "id": "CvNSDWYY05Zp"
   },
   "outputs": [],
   "source": [
    "def nms(boxes, conf_thres=0.2, iou_thres=0.5):\n",
    "    x1 = boxes[..., 0]\n",
    "    y1 = boxes[..., 1]\n",
    "    x2 = boxes[..., 2]\n",
    "    y2 = boxes[..., 3]\n",
    "    areas = (x2 - x1) * (y2 - y1)\n",
    "    scores = boxes[..., 4]\n",
    "\n",
    "    keep = []\n",
    "    order = scores.argsort()[::-1]\n",
    "\n",
    "    while order.size > 0:\n",
    "        i = order[0]\n",
    "        keep.append(i)\n",
    "        xx1 = np.maximum(x1[i], x1[order[1:]])\n",
    "        yy1 = np.maximum(y1[i], y1[order[1:]])\n",
    "        xx2 = np.minimum(x2[i], x2[order[1:]])\n",
    "        yy2 = np.minimum(y2[i], y2[order[1:]])\n",
    "\n",
    "        w = np.maximum(0.0, xx2 - xx1)\n",
    "        h = np.maximum(0.0, yy2 - yy1)\n",
    "        inter = w * h\n",
    "        ovr = inter / (areas[i] + areas[order[1:]] - inter)\n",
    "\n",
    "        inds = np.where(ovr <= iou_thres)[0]\n",
    "        order = order[inds + 1]\n",
    "\n",
    "    nms_box = []\n",
    "    for idx in range(len(boxes)):\n",
    "        if idx in keep and boxes[idx, 4] > conf_thres:\n",
    "            nms_box.append(boxes[idx])\n",
    "        else:\n",
    "            nms_box.append(np.zeros(boxes.shape[-1]))\n",
    "    boxes = np.array(nms_box)\n",
    "    return boxes\n",
    "\n",
    "def convert_boxes(input_y):\n",
    "    is_batch = len(input_y.shape) == 5\n",
    "    if not is_batch:\n",
    "        input_y = np.expand_dims(input_y, 0)\n",
    "    boxes = np.reshape(input_y, (input_y.shape[0], -1, input_y.shape[-1]))\n",
    "    if is_batch:\n",
    "        return np.array(boxes)\n",
    "    else:\n",
    "        return boxes[0]\n",
    "\n",
    "def predict_nms_boxes(input_y, conf_thres=0.2, iou_thres=0.5):\n",
    "    is_batch = len(input_y.shape) == 5\n",
    "    if not is_batch:\n",
    "        input_y = np.expand_dims(input_y, 0)\n",
    "    boxes = np.reshape(input_y, (input_y.shape[0], -1, input_y.shape[-1]))\n",
    "    nms_boxes = []\n",
    "    for box in boxes:\n",
    "        nms_box = nms(box, conf_thres, iou_thres)\n",
    "        nms_boxes.append(nms_box)\n",
    "    if is_batch:\n",
    "        return np.array(nms_boxes)\n",
    "    else:\n",
    "        return nms_boxes[0]\n",
    "\n",
    "def cal_recall(gt_bboxes, bboxes, iou_thres=0.5):\n",
    "    p = 0\n",
    "    tp = 0\n",
    "    for idx, (gt, bbox) in enumerate(zip(gt_bboxes, bboxes)):\n",
    "        gt = gt[np.nonzero(np.any(gt > 0, axis=1))]\n",
    "        bbox = bbox[np.nonzero(np.any(bbox > 0, axis=1))]\n",
    "        p += len(gt)\n",
    "        if bbox.size == 0:\n",
    "            continue\n",
    "        iou = _cal_overlap(gt, bbox)\n",
    "        predicted_class = np.argmax(bbox[...,5:], axis=-1)\n",
    "        for g, area in zip(gt, iou):\n",
    "            gt_c = np.argmax(g[5:])\n",
    "            idx = np.argmax(area)\n",
    "            if np.max(area) > iou_thres and predicted_class[idx] == gt_c:\n",
    "                tp += 1\n",
    "    return tp / p\n",
    "\n",
    "def _cal_overlap(a, b):\n",
    "    area = (b[:, 2] - b[:, 0]) * (b[:, 3] - b[:, 1])\n",
    "\n",
    "    iw = np.minimum(np.expand_dims(a[:, 2], axis=1), b[:, 2]) - \\\n",
    "        np.maximum(np.expand_dims(a[:, 0], axis=1), b[:, 0])\n",
    "    ih = np.minimum(np.expand_dims(a[:, 3], axis=1), b[:, 3]) - \\\n",
    "        np.maximum(np.expand_dims(a[:, 1], axis=1), b[:, 1])\n",
    "\n",
    "    iw = np.maximum(iw, 0)\n",
    "    ih = np.maximum(ih, 0)\n",
    "    intersection = iw * ih\n",
    "\n",
    "    ua = np.expand_dims((a[:, 2] - a[:, 0]) *\n",
    "                        (a[:, 3] - a[:, 1]), axis=1) + area - intersection\n",
    "\n",
    "    ua = np.maximum(ua, np.finfo(float).eps)\n",
    "\n",
    "    return intersection / ua\n"
   ]
  },
  {
   "cell_type": "code",
   "execution_count": 0,
   "metadata": {
    "colab": {},
    "colab_type": "code",
    "id": "_ijAMsAM1Idu"
   },
   "outputs": [],
   "source": [
    "def score(y_true, y_pred, **kwargs):\n",
    "    \"\"\"Compute Recall for a given predicted bboxes\"\"\"\n",
    "    nms_flag = kwargs.pop('nms_flag', True)\n",
    "    if nms_flag:\n",
    "        bboxes = predict_nms_boxes(y_pred)\n",
    "    else:\n",
    "        bboxes = convert_boxes(y_pred)\n",
    "    gt_bboxes = convert_boxes(y_true)\n",
    "    score = cal_recall(gt_bboxes, bboxes)\n",
    "    return score\n",
    "\n",
    "def predict(model, dataset, **kwargs):\n",
    "    batch_size = kwargs.pop('batch_size', 16)\n",
    "    pred_size = dataset.num_examples\n",
    "    num_steps = pred_size // batch_size\n",
    "    flag = int(bool(pred_size % batch_size))\n",
    "    # Start prediction loop\n",
    "    _y_pred = []\n",
    "    model.eval()\n",
    "    for i in range(num_steps + flag):\n",
    "        if i == num_steps and flag:\n",
    "            _batch_size = pred_size - num_steps * batch_size\n",
    "        else:\n",
    "            _batch_size = batch_size\n",
    "        X_true, _ = dataset.next_batch(_batch_size, shuffle=False)\n",
    "        X_true = torch.tensor(X_true).cuda()\n",
    "        # Compute predictions\n",
    "        y_pred = model.output(X_true).cpu().detach().numpy()\n",
    "\n",
    "        _y_pred.append(y_pred)\n",
    "    _y_pred = np.concatenate(_y_pred, axis=0)\n",
    "    return _y_pred"
   ]
  },
  {
   "cell_type": "code",
   "execution_count": 0,
   "metadata": {
    "colab": {},
    "colab_type": "code",
    "id": "z2vFA2T51Odu"
   },
   "outputs": [],
   "source": [
    "# Set hyperparameters for training\n",
    "batch_size = 2\n",
    "num_epochs = 5\n",
    "learning_rate = 1e-5\n",
    "eps = 1e-3\n",
    "num_eval = 128"
   ]
  },
  {
   "cell_type": "code",
   "execution_count": 0,
   "metadata": {
    "colab": {},
    "colab_type": "code",
    "id": "yv8JQJmE1UUd"
   },
   "outputs": [],
   "source": [
    "# Prepare model\n",
    "model = Yolov2(input_shape, num_classes, anchors)\n",
    "opt = torch.optim.Adam(model.parameters(), lr=learning_rate)\n",
    "model.cuda()\n",
    "\n",
    "train_size = train_set.num_examples\n",
    "num_steps_per_epoch = train_size // batch_size\n",
    "num_steps = num_epochs * num_steps_per_epoch"
   ]
  },
  {
   "cell_type": "code",
   "execution_count": 19,
   "metadata": {
    "colab": {
     "base_uri": "https://localhost:8080/",
     "height": 442
    },
    "colab_type": "code",
    "id": "Dr2PB03q1ZFn",
    "outputId": "d8dd954b-7698-4c33-aea9-5852a6fc88a3"
   },
   "outputs": [
    {
     "name": "stdout",
     "output_type": "stream",
     "text": [
      "[epoch 1]\tloss: 0.010531 |Train score: 1.000000 |Eval score: 0.799145\n"
     ]
    },
    {
     "name": "stderr",
     "output_type": "stream",
     "text": [
      "/usr/local/lib/python3.6/dist-packages/ipykernel_launcher.py:23: RuntimeWarning: invalid value encountered in true_divide\n",
      "/usr/local/lib/python3.6/dist-packages/ipykernel_launcher.py:25: RuntimeWarning: invalid value encountered in less_equal\n"
     ]
    },
    {
     "name": "stdout",
     "output_type": "stream",
     "text": [
      "[epoch 1]\tloss: 0.008023 |Train score: 1.000000 |Eval score: 0.786325\n",
      "[epoch 1]\tloss: 0.006631 |Train score: 1.000000 |Eval score: 0.747863\n",
      "[epoch 1]\tloss: 0.005755 |Train score: 1.000000 |Eval score: 0.811966\n",
      "[epoch 2]\tloss: 0.003753 |Train score: 1.000000 |Eval score: 0.743590\n",
      "[epoch 2]\tloss: 0.003809 |Train score: 0.750000 |Eval score: 0.705128\n",
      "[epoch 2]\tloss: 0.002853 |Train score: 1.000000 |Eval score: 0.645299\n",
      "[epoch 2]\tloss: 0.002911 |Train score: 0.666667 |Eval score: 0.611111\n",
      "[epoch 2]\tloss: 0.002170 |Train score: 1.000000 |Eval score: 0.555556\n",
      "[epoch 3]\tloss: 0.002013 |Train score: 1.000000 |Eval score: 0.470085\n",
      "[epoch 3]\tloss: 0.001798 |Train score: 0.500000 |Eval score: 0.594017\n",
      "[epoch 3]\tloss: 0.003100 |Train score: 0.600000 |Eval score: 0.470085\n",
      "[epoch 3]\tloss: 0.001854 |Train score: 1.000000 |Eval score: 0.555556\n",
      "[epoch 4]\tloss: 0.001799 |Train score: 0.666667 |Eval score: 0.564103\n",
      "[epoch 4]\tloss: 0.001156 |Train score: 1.000000 |Eval score: 0.581197\n",
      "[epoch 4]\tloss: 0.002908 |Train score: 0.333333 |Eval score: 0.576923\n",
      "[epoch 4]\tloss: 0.000918 |Train score: 1.000000 |Eval score: 0.649573\n",
      "[epoch 4]\tloss: 0.001358 |Train score: 1.000000 |Eval score: 0.670940\n",
      "[epoch 5]\tloss: 0.001287 |Train score: 1.000000 |Eval score: 0.645299\n",
      "[epoch 5]\tloss: 0.001516 |Train score: 0.750000 |Eval score: 0.709402\n",
      "[epoch 5]\tloss: 0.001855 |Train score: 0.500000 |Eval score: 0.700855\n",
      "[epoch 5]\tloss: 0.001131 |Train score: 1.000000 |Eval score: 0.709402\n",
      "[epoch 5]\tloss: 0.000784 |Train score: 1.000000 |Eval score: 0.705128\n"
     ]
    }
   ],
   "source": [
    "curr_epoch = 1\n",
    "best_score = 0\n",
    "curr_score = 0\n",
    "# Start training loop\n",
    "\n",
    "for i in range(num_steps):\n",
    "    X_true, y_true = train_set.next_batch(batch_size, shuffle=True)\n",
    "    if not model.training:\n",
    "      model.train()\n",
    "      \n",
    "    opt.zero_grad()\n",
    "    X, y = torch.tensor(X_true).cuda(), torch.tensor(y_true).cuda()\n",
    "    loss = model.yoloLoss(X, y)\n",
    "    y_pred = model.output(X).cpu().detach().numpy()\n",
    "    loss.backward()\n",
    "    opt.step()\n",
    "    \n",
    "    if (i+1) % num_eval == 0:\n",
    "        step_score = score(y_true, y_pred)\n",
    "        eval_y_pred = predict(model, val_set)\n",
    "        eval_score = score(val_set.labels, eval_y_pred)\n",
    "        print('[epoch {}]\\tloss: {:.6f} |Train score: {:.6f} |Eval score: {:.6f}'\n",
    "      .format(curr_epoch, loss, step_score, eval_score))\n",
    "        curr_score = eval_score\n",
    "\n",
    "    if curr_score > best_score + eps:\n",
    "        best_score = curr_score\n",
    "        torch.save({'model_state_dict': model.state_dict()}, './yolov2.pth')\n",
    "        \n",
    "    if (i+1) % num_steps_per_epoch == 0:\n",
    "        curr_epoch += 1"
   ]
  },
  {
   "cell_type": "markdown",
   "metadata": {
    "colab_type": "text",
    "id": "u82AuC0Z1fB9"
   },
   "source": [
    "## Test image and draw bboxes"
   ]
  },
  {
   "cell_type": "code",
   "execution_count": 0,
   "metadata": {
    "colab": {},
    "colab_type": "code",
    "id": "49BksJJy1gyg"
   },
   "outputs": [],
   "source": [
    "COLORS = [(100, 72, 247),\n",
    " (232, 237, 157),\n",
    " (45, 241, 42),\n",
    " (72, 251, 220),\n",
    " (115, 61, 201),\n",
    " (38, 253, 214),\n",
    " (233, 113, 18),\n",
    " (201, 141, 151),\n",
    " (57, 199, 175),\n",
    " (155, 90, 108),\n",
    " (130, 223, 66),\n",
    " (40, 211, 140)]\n",
    "\n",
    "def draw_pred_boxes(image, pred_boxes, class_map, text=True, score=False, order='HWC'):\n",
    "    if order == 'CHW':\n",
    "        image = np.transpose(image, [1, 2, 0])\n",
    "    im_h, im_w = image.shape[:2]\n",
    "    output = image.copy()\n",
    "    \n",
    "    for box in pred_boxes:\n",
    "        overlay = output.copy()\n",
    "\n",
    "        class_idx = np.argmax(box[5:])\n",
    "        color = COLORS[class_idx]\n",
    "        line_width, alpha = (2, 0.8)\n",
    "        x_min, x_max = [int(x * im_w) for x in [box[0], box[2]]]\n",
    "        y_min, y_max = [int(x * im_h) for x in [box[1], box[3]]]\n",
    "        cv2.rectangle(overlay, (x_min, y_min),\n",
    "                      (x_max, y_max), color, line_width)\n",
    "        output = cv2.addWeighted(overlay, alpha, output, 1 - alpha, 0)\n",
    "\n",
    "        if text:\n",
    "            p_text = str(round(np.max(box[5:]), 3)) if score else class_map[str(class_idx)]\n",
    "            y_offset = -6\n",
    "            text_size = 0.6\n",
    "            text_line_width = 1\n",
    "            output = cv2.putText(output, p_text, (x_min + 4, y_min + y_offset),\n",
    "                                 cv2.FONT_HERSHEY_DUPLEX, text_size, color, text_line_width)\n",
    "    return output"
   ]
  },
  {
   "cell_type": "code",
   "execution_count": 0,
   "metadata": {
    "colab": {
     "base_uri": "https://localhost:8080/",
     "height": 89
    },
    "colab_type": "code",
    "id": "Uk3jAixi1yrG",
    "outputId": "a3aa83bb-1baa-4f28-da09-d0cca6599cd3"
   },
   "outputs": [
    {
     "name": "stdout",
     "output_type": "stream",
     "text": [
      "WARNING:tensorflow:From /usr/local/lib/python3.6/dist-packages/tensorflow/python/training/saver.py:1266: checkpoint_exists (from tensorflow.python.training.checkpoint_management) is deprecated and will be removed in a future version.\n",
      "Instructions for updating:\n",
      "Use standard file APIs to check for files with this prefix.\n",
      "INFO:tensorflow:Restoring parameters from ./yolov2.ckpt\n"
     ]
    }
   ],
   "source": [
    "# model.load_state_dict(torch.load('./yolov2.pth')['model_state_dict'])"
   ]
  },
  {
   "cell_type": "code",
   "execution_count": 21,
   "metadata": {
    "colab": {
     "base_uri": "https://localhost:8080/",
     "height": 34
    },
    "colab_type": "code",
    "id": "-JUAsKvT17Dj",
    "outputId": "50057ab1-34e1-4309-f48c-02aafec74cd2"
   },
   "outputs": [
    {
     "name": "stdout",
     "output_type": "stream",
     "text": [
      "Test performance: 0.7131367292225201\n"
     ]
    }
   ],
   "source": [
    "test_y_pred = predict(model, test_set)\n",
    "test_score = score(test_set.labels, test_y_pred)\n",
    "\n",
    "print('Test performance: {}'.format(test_score))"
   ]
  },
  {
   "cell_type": "code",
   "execution_count": 0,
   "metadata": {
    "colab": {},
    "colab_type": "code",
    "id": "DO96Tqw-188L"
   },
   "outputs": [],
   "source": [
    "r_idx = np.random.choice(test_set.num_examples, 1)\n",
    "test_images = test_set.images[r_idx]\n",
    "X = torch.tensor(test_images).cuda()\n",
    "test_pred_y = model.output(X).cpu().detach().numpy()"
   ]
  },
  {
   "cell_type": "code",
   "execution_count": 0,
   "metadata": {
    "colab": {},
    "colab_type": "code",
    "id": "QhZemny-1_JE"
   },
   "outputs": [],
   "source": [
    "bboxes = predict_nms_boxes(test_pred_y[0], conf_thres=0.5, iou_thres=0.5)\n",
    "bboxes = bboxes[np.nonzero(np.any(bboxes > 0, axis=1))]\n",
    "boxed_img = draw_pred_boxes(test_images[0], bboxes, class_map, order='CHW')"
   ]
  },
  {
   "cell_type": "code",
   "execution_count": 44,
   "metadata": {
    "colab": {
     "base_uri": "https://localhost:8080/",
     "height": 286
    },
    "colab_type": "code",
    "id": "Szx_CLal2A_i",
    "outputId": "22e8e854-6323-46ad-c974-0b5a2d564bb0"
   },
   "outputs": [
    {
     "data": {
      "text/plain": [
       "<matplotlib.image.AxesImage at 0x7febe04593c8>"
      ]
     },
     "execution_count": 44,
     "metadata": {
      "tags": []
     },
     "output_type": "execute_result"
    },
    {
     "data": {
      "image/png": "[encoded data removed]",
      "text/plain": [
       "<Figure size 432x288 with 1 Axes>"
      ]
     },
     "metadata": {
      "tags": []
     },
     "output_type": "display_data"
    }
   ],
   "source": [
    "plt.axis(\"off\")\n",
    "imshow(cv2.cvtColor(boxed_img, cv2.COLOR_BGR2RGB)/255)"
   ]
  }
 ],
 "metadata": {
  "accelerator": "GPU",
  "colab": {
   "collapsed_sections": [],
   "name": "Simple_yolov2_pytorch.ipynb",
   "provenance": [],
   "version": "0.3.2"
  },
  "kernelspec": {
   "display_name": "Python 3",
   "language": "python",
   "name": "python3"
  },
  "language_info": {
   "codemirror_mode": {
    "name": "ipython",
    "version": 3
   },
   "file_extension": ".py",
   "mimetype": "text/x-python",
   "name": "python",
   "nbconvert_exporter": "python",
   "pygments_lexer": "ipython3",
   "version": "3.5.2"
  }
 },
 "nbformat": 4,
 "nbformat_minor": 1
}
